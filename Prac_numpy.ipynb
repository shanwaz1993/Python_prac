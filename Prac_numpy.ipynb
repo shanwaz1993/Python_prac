{
 "cells": [
  {
   "cell_type": "code",
   "execution_count": 36,
   "metadata": {},
   "outputs": [
    {
     "name": "stdout",
     "output_type": "stream",
     "text": [
      "[[0. 0. 0. 0.]\n",
      " [0. 0. 0. 0.]\n",
      " [0. 0. 0. 0.]]\n",
      "[1 2 3 4 5 6 7 8 9]\n",
      "[ 3  6  9 12 15 18 21 24 27]\n",
      "[1 2 3 4 5 6 7 8 9]\n"
     ]
    }
   ],
   "source": [
    "import numpy as np\n",
    "\n",
    "#how nympy saves time..\n",
    "a=np.zeros((3,4))\n",
    "print(a)\n",
    "\n",
    "l1=np.array([1,2,3,4,5,6,7,8,9])\n",
    "l2=np.arange(1,10,1)\n",
    "\n",
    "l3=l1*2     #no needd to iterate the elemnets..\n",
    "l4=l2*3\n",
    "print(l2)\n",
    "print(l4)\n",
    "l5=np.linspace(1,12,6)  #gets 10 elemets in between 1to 20\n",
    "l5\n",
    "\n",
    "l1=np.array([1,2,3,4,5,6,7,8,9],dtype=np.int16)\n",
    "print(l1)"
   ]
  },
  {
   "cell_type": "code",
   "execution_count": 14,
   "metadata": {},
   "outputs": [
    {
     "name": "stdout",
     "output_type": "stream",
     "text": [
      "[[ 1.   3.2  5.4]\n",
      " [ 7.6  9.8 12. ]]\n"
     ]
    },
    {
     "data": {
      "text/plain": [
       "array([[ 1. ,  3.2,  5.4],\n",
       "       [ 7.6,  9.8, 12. ]])"
      ]
     },
     "execution_count": 14,
     "metadata": {},
     "output_type": "execute_result"
    }
   ],
   "source": [
    "print(l5.reshape(2,3))  #changes the shape of array but nop permanent \n",
    "l5   #still same one dimentional"
   ]
  },
  {
   "cell_type": "code",
   "execution_count": 17,
   "metadata": {},
   "outputs": [
    {
     "name": "stdout",
     "output_type": "stream",
     "text": [
      "6\n",
      "(2, 3)\n",
      "float64\n",
      "8\n"
     ]
    }
   ],
   "source": [
    "print(l5.size)  #size tell total number of elements \n",
    "print(l5.shape)  #shape dimention of list.\n",
    "print(l5.dtype)\n",
    "print(l5.itemsize)  #as float64 takes 8 bytes per element."
   ]
  },
  {
   "cell_type": "code",
   "execution_count": 51,
   "metadata": {},
   "outputs": [
    {
     "name": "stdout",
     "output_type": "stream",
     "text": [
      "[[ 1  2  3  4  5  6  7  8  9]\n",
      " [10 11 12 13 14 15 16 17 18]\n",
      " [19 20 21 22 23 24 25 26 27]]\n",
      "(3, 9)\n",
      "int64\n"
     ]
    }
   ],
   "source": [
    "#two dimentional array\n",
    "\n",
    "l1=np.array([(1,2,3,4,5,6,7,8,9),(10,11,12,13,14,15,16,17,18),(19,20,21,22,23,24,25,26,27)])\n",
    "print(l1)\n",
    "print(l1.shape)\n",
    "print(l1.dtype)\n",
    "#l1=np.array([(1,2,3,4,5,6,7,8,9),(10,11,12,13,14,15,16)])   #no shape\n",
    "#l1.shape"
   ]
  },
  {
   "cell_type": "code",
   "execution_count": 36,
   "metadata": {},
   "outputs": [
    {
     "name": "stdout",
     "output_type": "stream",
     "text": [
      "[[ 0  1  2  3]\n",
      " [ 4  5  6  7]\n",
      " [ 8  9 10 11]]\n",
      "int64\n",
      "[ 6  7  8  9 10 11]\n",
      "[[  0   1   2   3]\n",
      " [  4   5 -10 -10]\n",
      " [-10 -10 -10 -10]]\n"
     ]
    }
   ],
   "source": [
    "#boolean array\n",
    "import numpy as np\n",
    "bl=np.arange(12).reshape(3,4)\n",
    "print(bl)\n",
    "print(bl.dtype)\n",
    "b=bl > 5\n",
    "print(bl[b])  #Awwwwwsome\n",
    "bl[b]= -10 #replaced evey element less than 5 with -10\n",
    "print(bl)  \n"
   ]
  },
  {
   "cell_type": "code",
   "execution_count": 37,
   "metadata": {},
   "outputs": [
    {
     "name": "stdout",
     "output_type": "stream",
     "text": [
      "1.0\n",
      "12.0\n"
     ]
    }
   ],
   "source": [
    "print(l5.min())\n",
    "print(l5.max())"
   ]
  },
  {
   "cell_type": "code",
   "execution_count": 43,
   "metadata": {},
   "outputs": [
    {
     "data": {
      "text/plain": [
       "0.0"
      ]
     },
     "execution_count": 43,
     "metadata": {},
     "output_type": "execute_result"
    }
   ],
   "source": [
    "print(a.mean())\n",
    "print(a.var())\n",
    "print(a.std())"
   ]
  },
  {
   "cell_type": "code",
   "execution_count": 54,
   "metadata": {},
   "outputs": [
    {
     "name": "stdout",
     "output_type": "stream",
     "text": [
      "[[ 1  2  3  4  5  6  7  8  9]\n",
      " [10 11 12 13 14 15 16 17 18]\n",
      " [19 20 21 22 23 24 25 26 27]]\n"
     ]
    },
    {
     "data": {
      "text/plain": [
       "array(['shan'], dtype='<U4')"
      ]
     },
     "execution_count": 54,
     "metadata": {},
     "output_type": "execute_result"
    }
   ],
   "source": [
    "print(l1)\n",
    "l1.sum(axis=1)  #AAAAAAAAAwesum\n",
    "l8=np.array([\"shan\"])\n",
    "l8"
   ]
  },
  {
   "cell_type": "code",
   "execution_count": 59,
   "metadata": {},
   "outputs": [
    {
     "data": {
      "text/plain": [
       "array([['shan', '24', '50'],\n",
       "       ['noor', '24', '50']], dtype='<U4')"
      ]
     },
     "execution_count": 59,
     "metadata": {},
     "output_type": "execute_result"
    }
   ],
   "source": [
    "#load text\n",
    "\n",
    "data=np.loadtxt('/home/shan/Downloads/shanwaz.csv',dtype='<U4',delimiter=',',skiprows=1)  \n",
    "data"
   ]
  },
  {
   "cell_type": "code",
   "execution_count": 6,
   "metadata": {},
   "outputs": [
    {
     "name": "stdout",
     "output_type": "stream",
     "text": [
      "[[ 5  7]\n",
      " [ 9 11]]\n",
      "[[-3 -3]\n",
      " [-3 -3]]\n",
      "[[0.25       0.4       ]\n",
      " [0.5        0.57142857]]\n",
      "[[ 4 10]\n",
      " [18 28]]\n",
      "[[16 19]\n",
      " [36 43]]\n"
     ]
    }
   ],
   "source": [
    "import numpy as np\n",
    "a=np.array([(1,2),(3,4)])\n",
    "b=np.array([[4,5],[6,7]])\n",
    "\n",
    "print(a+b)\n",
    "print(a-b)\n",
    "print(a/b)\n",
    "print(a*b)\n",
    "print(a.dot(b))  # matrix product\n"
   ]
  },
  {
   "cell_type": "code",
   "execution_count": 14,
   "metadata": {},
   "outputs": [
    {
     "name": "stdout",
     "output_type": "stream",
     "text": [
      "[[1 2 3]\n",
      " [7 8 9]\n",
      " [4 5 6]]\n",
      "9\n",
      "[3 9]\n",
      "[4 5 6]\n",
      "[1, 2, 3, 7, 8, 9, 4, 5, 6]\n"
     ]
    }
   ],
   "source": [
    "import numpy as np\n",
    "\n",
    "a=np.array([[1,2,3],[7,8,9],[4,5,6]])\n",
    "print(a)\n",
    "print(a[1,2]) #access using indexing \n",
    "print(a[0:2,2])  #it will access the values from rows starting from 0 to 2(excuding 2) and pick 2nd column.\n",
    "print(a[-1])      #last row\n",
    "print([x for x in a.flat])"
   ]
  },
  {
   "cell_type": "code",
   "execution_count": 17,
   "metadata": {},
   "outputs": [
    {
     "name": "stdout",
     "output_type": "stream",
     "text": [
      "[[ 1  2  3]\n",
      " [ 7  8  9]\n",
      " [ 4  5  6]\n",
      " [10 20 30]\n",
      " [70 80 90]\n",
      " [40 50 60]]\n",
      "[[ 1  2  3 10 20 30]\n",
      " [ 7  8  9 70 80 90]\n",
      " [ 4  5  6 40 50 60]]\n"
     ]
    }
   ],
   "source": [
    "a=np.array([[1,2,3],[7,8,9],[4,5,6]])\n",
    "b=np.array([[10,20,30],[70,80,90],[40,50,60]])\n",
    "\n",
    "print(np.vstack((a,b)))  #very cool....\n",
    "print(np.hstack((a,b)))   #very coooooolllllll\n"
   ]
  },
  {
   "cell_type": "code",
   "execution_count": 23,
   "metadata": {},
   "outputs": [
    {
     "name": "stdout",
     "output_type": "stream",
     "text": [
      "[[ 1  2  3  7  8  9  4  5  6]\n",
      " [10 20 30 40 50 60 70 80 90]]\n",
      "[[ 1  2  3]\n",
      " [10 20 30]]\n",
      "[[ 7  8  9]\n",
      " [40 50 60]]\n",
      "[[ 4  5  6]\n",
      " [70 80 90]]\n"
     ]
    }
   ],
   "source": [
    "a=np.array([[1,2,3,7,8,9,4,5,6],[10,20,30,40,50,60,70,80,90]])\n",
    "print(a)\n",
    "li=np.hsplit(a,3)\n",
    "print(li[0])\n",
    "print(li[1])\n",
    "print(li[2])"
   ]
  },
  {
   "cell_type": "code",
   "execution_count": null,
   "metadata": {},
   "outputs": [],
   "source": []
  }
 ],
 "metadata": {
  "kernelspec": {
   "display_name": "Python 3",
   "language": "python",
   "name": "python3"
  },
  "language_info": {
   "codemirror_mode": {
    "name": "ipython",
    "version": 3
   },
   "file_extension": ".py",
   "mimetype": "text/x-python",
   "name": "python",
   "nbconvert_exporter": "python",
   "pygments_lexer": "ipython3",
   "version": "3.7.3"
  }
 },
 "nbformat": 4,
 "nbformat_minor": 2
}
