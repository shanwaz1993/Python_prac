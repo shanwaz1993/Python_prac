{
 "cells": [
  {
   "cell_type": "code",
   "execution_count": 8,
   "metadata": {},
   "outputs": [
    {
     "name": "stdout",
     "output_type": "stream",
     "text": [
      "[0 1 2 3 4 5 6 7 8 9]\n",
      "[5 6 7]\n",
      "9\n",
      "[0 1 2 3 4 5 6 7 8 9]\n",
      "[0 2 4 6 8]\n",
      "[3 5 7 9]\n",
      "[5 3 1]\n"
     ]
    }
   ],
   "source": [
    "import numpy as np\n",
    "\n",
    "# array slicing \n",
    "\n",
    "#one dimentional\n",
    "\n",
    "a=np.arange(10)\n",
    "print(a)\n",
    "\n",
    "print(a[5:8])\n",
    "\n",
    "print(a[-1])  # access last element\n",
    "print(a[:])    # full array\n",
    "print(a[::2])   #access every alternate elment starting with 0 index\n",
    "print(a[3::2])  #access every alternate elment starting with 3 index\n",
    "print(a[5::-2])  #reversed every alternate straing from 5th index\n"
   ]
  },
  {
   "cell_type": "code",
   "execution_count": 16,
   "metadata": {},
   "outputs": [
    {
     "name": "stdout",
     "output_type": "stream",
     "text": [
      "[[ 0  1  2  3  4]\n",
      " [ 5  6  7  8  9]\n",
      " [10 11 12 13 14]]\n",
      "13\n",
      "[[ 0  1  2  3  4]\n",
      " [ 5  6  7  8  9]\n",
      " [10 11 12 13 14]]\n",
      "[[ 0  2  4]\n",
      " [10 12 14]]\n",
      "[[14 13 12 11 10]\n",
      " [ 9  8  7  6  5]\n",
      " [ 4  3  2  1  0]]\n"
     ]
    }
   ],
   "source": [
    "import numpy as np\n",
    "\n",
    "x=np.arange(15).reshape(3,5)\n",
    "print(x)\n",
    "\n",
    "print(x[2,3])\n",
    "print(x[:,:])\n",
    "print(x[::2,::2])\n",
    "print(x[::-1,::-1])  #revese the array\n"
   ]
  },
  {
   "cell_type": "code",
   "execution_count": 20,
   "metadata": {},
   "outputs": [
    {
     "name": "stdout",
     "output_type": "stream",
     "text": [
      "[[ 0  1  2  3  4]\n",
      " [ 5  6  7  8  9]\n",
      " [10 11 12 13 14]]\n",
      "[[ 0  2  4]\n",
      " [10 12 14]]\n",
      "[[15  2  4]\n",
      " [10 12 14]]\n",
      "[[15  1  2  3  4]\n",
      " [ 5  6  7  8  9]\n",
      " [10 11 12 13 14]]\n"
     ]
    }
   ],
   "source": [
    "#Example for views and copy of array.\n",
    "# python np returns view of original array \n",
    "\n",
    "import numpy as np\n",
    "\n",
    "x=np.arange(15).reshape(3,5)\n",
    "print(x)\n",
    "\n",
    "y=x[::2,::2]\n",
    "print(y)\n",
    "y[0,0]=15\n",
    "print(y)\n",
    "print(x)    #its magic its magic...Numpy uses view of originla array rather than copy of array.."
   ]
  },
  {
   "cell_type": "code",
   "execution_count": 21,
   "metadata": {
    "collapsed": true
   },
   "outputs": [
    {
     "name": "stdout",
     "output_type": "stream",
     "text": [
      "[[ 0  1  2  3  4]\n",
      " [ 5  6  7  8  9]\n",
      " [10 11 12 13 14]]\n",
      "[[ 0  2  4]\n",
      " [10 12 14]]\n",
      "[[15  2  4]\n",
      " [10 12 14]]\n",
      "[[ 0  1  2  3  4]\n",
      " [ 5  6  7  8  9]\n",
      " [10 11 12 13 14]]\n"
     ]
    }
   ],
   "source": [
    "#Now how to create copy while creating new array see below\n",
    "import numpy as np\n",
    "\n",
    "x=np.arange(15).reshape(3,5)\n",
    "print(x)\n",
    "\n",
    "y=x[::2,::2].copy()    #creating copy of array\n",
    "print(y)\n",
    "y[0,0]=15\n",
    "print(y)\n",
    "print(x)    #Values does not change this time magic gone ..copy create new location to store new subarray\n",
    "\n"
   ]
  },
  {
   "cell_type": "code",
   "execution_count": 21,
   "metadata": {},
   "outputs": [
    {
     "name": "stdout",
     "output_type": "stream",
     "text": [
      "[[10 12 14 16]\n",
      " [18 20 22 24]\n",
      " [26 28 30 32]\n",
      " [34 36 38 40]\n",
      " [42 44 46 48]\n",
      " [ 1  3  5  7]\n",
      " [ 9 11 13 15]\n",
      " [17 19 21 23]\n",
      " [25 27 29 31]\n",
      " [33 35 37 39]\n",
      " [41 43 45 47]]\n",
      "[[10 12 14 16]\n",
      " [18 20 22 24]\n",
      " [26 28 30 32]\n",
      " [34 36 38 40]\n",
      " [42 44 46 48]\n",
      " [ 1  3  5  7]\n",
      " [ 9 11 13 15]\n",
      " [17 19 21 23]\n",
      " [25 27 29 31]\n",
      " [33 35 37 39]\n",
      " [41 43 45 47]]\n",
      "[[10 12 14 16  1  3  5]\n",
      " [18 20 22 24  7  9 11]\n",
      " [26 28 30 32 13 15 17]\n",
      " [34 36 38 40 19 21 23]\n",
      " [42 44 46 48 25 27 29]]\n",
      "[[10 12 14 16  1  3  5]\n",
      " [18 20 22 24  7  9 11]]\n",
      "[[26 28 30 32 13 15 17]\n",
      " [34 36 38 40 19 21 23]\n",
      " [42 44 46 48 25 27 29]]\n"
     ]
    }
   ],
   "source": [
    "import numpy as np   #concate and split \n",
    "x=np.arange(10,50,2).reshape(5,4)\n",
    "y=np.arange(1,48,2).reshape(6,4)\n",
    "c=np.concatenate([x,y])\n",
    "print(c)\n",
    "#y=np.arange(1,48,2).reshape(4,6)  #will throw error\n",
    "print(np.vstack([x,y]))\n",
    "y=np.arange(1,30,2).reshape(5,3)\n",
    "d=np.hstack([x,y])\n",
    "print(d)\n",
    "\n",
    "print(np.vsplit(d,[2])[0])\n",
    "print(np.vsplit(d,[2])[1])\n",
    "\n",
    "\n",
    "\n"
   ]
  },
  {
   "cell_type": "code",
   "execution_count": 28,
   "metadata": {},
   "outputs": [
    {
     "name": "stdout",
     "output_type": "stream",
     "text": [
      "[1.         0.5        0.33333333 0.25       0.2        0.16666667\n",
      " 0.14285714 0.125      0.11111111]\n",
      "[1 1 1 1 1 1 1 1 1]\n",
      "[ 1  4  9 16 25 36 49 64 81]\n",
      "[ 2  4  8 16 32]\n"
     ]
    }
   ],
   "source": [
    "#vectorize operations using Ufuc(Unique functions)\n",
    "\n",
    "a=np.arange(1,10)\n",
    "print(1.0/a) # each value gets as reciprocal \n",
    "\n",
    "b=np.arange(1,10)\n",
    "print(a/b)\n",
    "print(a*b)\n",
    "c=np.arange(1,6)\n",
    "print(2**c)  #power operator."
   ]
  },
  {
   "cell_type": "code",
   "execution_count": 32,
   "metadata": {},
   "outputs": [
    {
     "name": "stdout",
     "output_type": "stream",
     "text": [
      "45\n",
      "362880\n",
      "[ 1  3  6 10 15 21 28 36 45]\n"
     ]
    }
   ],
   "source": [
    "#aggregate funsction\n",
    "a=np.arange(1,10)\n",
    "print(np.add.reduce(a))\n",
    "print(np.multiply.reduce(a))\n",
    "print(np.add.accumulate(a))"
   ]
  },
  {
   "cell_type": "code",
   "execution_count": 54,
   "metadata": {},
   "outputs": [
    {
     "name": "stdout",
     "output_type": "stream",
     "text": [
      "[[10 12 14 16]\n",
      " [18 20 22 24]\n",
      " [26 28 30 32]\n",
      " [34 36 38 40]\n",
      " [42 44 46 48]]\n",
      "580\n",
      "580\n",
      "[130 140 150 160]\n",
      "[42 44 46 48]\n",
      "[10 18 26 34 42]\n",
      "5\n",
      "[4 4 4 4 4]\n"
     ]
    }
   ],
   "source": [
    "#multidementional aggregate\n",
    "x=np.arange(10,50,2).reshape(5,4)\n",
    "print(x)\n",
    "print(x.sum())\n",
    "print(np.sum(x))\n",
    "print(x.sum(0))\n",
    "print(x.max(0))\n",
    "print(x.min(1))\n",
    "print(np.sum(x<20))\n",
    "print(np.sum(x%2==0,axis=1))  #five elments with modulous value in every row"
   ]
  },
  {
   "cell_type": "code",
   "execution_count": null,
   "metadata": {},
   "outputs": [],
   "source": []
  }
 ],
 "metadata": {
  "kernelspec": {
   "display_name": "Python 2",
   "language": "python",
   "name": "python2"
  },
  "language_info": {
   "codemirror_mode": {
    "name": "ipython",
    "version": 2
   },
   "file_extension": ".py",
   "mimetype": "text/x-python",
   "name": "python",
   "nbconvert_exporter": "python",
   "pygments_lexer": "ipython2",
   "version": "2.7.16"
  }
 },
 "nbformat": 4,
 "nbformat_minor": 2
}
