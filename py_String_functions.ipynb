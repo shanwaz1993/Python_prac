{
 "cells": [
  {
   "cell_type": "code",
   "execution_count": 1,
   "metadata": {},
   "outputs": [],
   "source": [
    "#important Python string function\n",
    "\n",
    "#len() lower() translate() ljust() upper() startswith() isupper()\n",
    "#islower()\n",
    "#rjust() find() endswith() isnumeric()\n",
    "#center() rfind() isalnum() isdecimal()\n",
    "#zfill() index() isalpha() split()\n",
    "#strip() rindex() isdigit() rsplit()\n",
    "#rstrip() capitalize() isspace() partition()\n",
    "#lstrip() swapcase() rpartition()\n",
    "#istitle()\n",
    "\n",
    "#Method Description\n",
    "#match() Call re.match() on each element, returning a Boolean.\n",
    "#extract() Call re.match() on each element, returning matched groups as strings.\n",
    "#findall() Call re.findall() on each element.\n",
    "#replace() Replace occurrences of pattern with some other string.\n",
    "#contains() Call re.search() on each element, returning a Boolean.\n",
    "#count() Count occurrences of pattern.\n",
    "#split() Equivalent to str.split() , but accepts regexps.\n",
    "#rsplit() Equivalent to str.rsplit() , but accepts regexps.\n",
    "\n",
    "#Method\n",
    "#get() Index each element\n",
    "#slice() Slice each element\n",
    "#slice_replace() Replace slice in each element with passed value\n",
    "#cat() Concatenate strings\n",
    "#repeat() Repeat values\n",
    "#normalize() Return Unicode form of string\n",
    "#pad() Add whitespace to left, right, or both sides of strings\n",
    "#wrap() Split long strings into lines with length less than a given width\n",
    "#join() Join strings in each element of the Series with passed separator\n",
    "#get_dummies() Extract dummy variables as a DataFrame"
   ]
  },
  {
   "cell_type": "code",
   "execution_count": null,
   "metadata": {},
   "outputs": [],
   "source": []
  }
 ],
 "metadata": {
  "kernelspec": {
   "display_name": "Python 2",
   "language": "python",
   "name": "python2"
  },
  "language_info": {
   "codemirror_mode": {
    "name": "ipython",
    "version": 2
   },
   "file_extension": ".py",
   "mimetype": "text/x-python",
   "name": "python",
   "nbconvert_exporter": "python",
   "pygments_lexer": "ipython2",
   "version": "2.7.16"
  }
 },
 "nbformat": 4,
 "nbformat_minor": 2
}
