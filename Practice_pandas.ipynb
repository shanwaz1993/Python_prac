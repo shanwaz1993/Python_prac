{
 "cells": [
  {
   "cell_type": "code",
   "execution_count": 1,
   "metadata": {},
   "outputs": [
    {
     "name": "stdout",
     "output_type": "stream",
     "text": [
      "              Rooms         Price      Distance      Postcode      Bedroom2  \\\n",
      "count  34857.000000  2.724700e+04  34856.000000  34856.000000  26640.000000   \n",
      "mean       3.031012  1.050173e+06     11.184929   3116.062859      3.084647   \n",
      "std        0.969933  6.414671e+05      6.788892    109.023903      0.980690   \n",
      "min        1.000000  8.500000e+04      0.000000   3000.000000      0.000000   \n",
      "25%        2.000000  6.350000e+05      6.400000   3051.000000      2.000000   \n",
      "50%        3.000000  8.700000e+05     10.300000   3103.000000      3.000000   \n",
      "75%        4.000000  1.295000e+06     14.000000   3156.000000      4.000000   \n",
      "max       16.000000  1.120000e+07     48.100000   3978.000000     30.000000   \n",
      "\n",
      "           Bathroom           Car       Landsize  BuildingArea     YearBuilt  \\\n",
      "count  26631.000000  26129.000000   23047.000000   13742.00000  15551.000000   \n",
      "mean       1.624798      1.728845     593.598993     160.25640   1965.289885   \n",
      "std        0.724212      1.010771    3398.841946     401.26706     37.328178   \n",
      "min        0.000000      0.000000       0.000000       0.00000   1196.000000   \n",
      "25%        1.000000      1.000000     224.000000     102.00000   1940.000000   \n",
      "50%        2.000000      2.000000     521.000000     136.00000   1970.000000   \n",
      "75%        2.000000      2.000000     670.000000     188.00000   2000.000000   \n",
      "max       12.000000     26.000000  433014.000000   44515.00000   2106.000000   \n",
      "\n",
      "          Lattitude    Longtitude  Propertycount  \n",
      "count  26881.000000  26881.000000   34854.000000  \n",
      "mean     -37.810634    145.001851    7572.888306  \n",
      "std        0.090279      0.120169    4428.090313  \n",
      "min      -38.190430    144.423790      83.000000  \n",
      "25%      -37.862950    144.933500    4385.000000  \n",
      "50%      -37.807600    145.007800    6763.000000  \n",
      "75%      -37.754100    145.071900   10412.000000  \n",
      "max      -37.390200    145.526350   21650.000000  \n"
     ]
    }
   ],
   "source": [
    "import pandas as pd\n",
    "\n",
    "data=pd.read_csv(r'/home/shan/Downloads/Melbourne_housing_FULL.csv',index_col=0)\n",
    "\n",
    "#take a look into data\n",
    "print(data.describe())\n",
    "#print(data.info)\n",
    "#print(data.head())\n",
    "#print(data.columns)\n",
    "#print(data.index)\n",
    "#print(data.dtypes)"
   ]
  },
  {
   "cell_type": "code",
   "execution_count": 2,
   "metadata": {},
   "outputs": [],
   "source": [
    "#-----------categorization of data \n",
    "#print(data.isnull().any())\n",
    "#df=data.select_dtypes(include='object')\n",
    "#print(df.head())\n",
    "#print(df.isnull().any())"
   ]
  },
  {
   "cell_type": "code",
   "execution_count": 3,
   "metadata": {},
   "outputs": [
    {
     "name": "stdout",
     "output_type": "stream",
     "text": [
      "641467.130105\n",
      "4.11480079005e+11\n",
      "452081.760394\n"
     ]
    }
   ],
   "source": [
    "#----------Measure of tandency \n",
    "#print(data['Regionname'].mode())\n",
    "#print(df['CouncilArea'].mode())\n",
    "#print(data['Price'].mean())\n",
    "#print(data['Price'].median())\n",
    "\n",
    "#--------measure of spreads\n",
    "print(data['Price'].std())\n",
    "print(data['Price'].var())\n",
    "print(data['Price'].mad())"
   ]
  },
  {
   "cell_type": "code",
   "execution_count": 4,
   "metadata": {},
   "outputs": [],
   "source": [
    "#print(data.mode())\n",
    "#print(data[data.Rooms==1].loc[:,'Rooms':'Price'].count())\n",
    "#print(data.loc[data.Rooms==1].Price)\n",
    "#print(data[data.Rooms==2].loc[:,'Rooms':'Price'].count())\n",
    "#print(data[data.Rooms==3].loc[:,'Rooms':'Price'].count())\n"
   ]
  },
  {
   "cell_type": "code",
   "execution_count": null,
   "metadata": {},
   "outputs": [],
   "source": [
    "#filter\n",
    "#print(data[(data.Rooms==1) & (data.Price>2000000)].loc[:,'Rooms':'Price'])\n",
    "#print(data[(data.Rooms==1) & (data.Price>2000000)].loc[:,'Rooms':'Price'].sort_values(['Price'],ascending=[0]))\n",
    "#print(data[(data.Rooms==1) & (data.Price>2000000)].loc[:,'Rooms':'Price'].sort_values(['Rooms','Type','Price'],ascending=[0,1,1]))\n",
    "\n",
    "#print(data[(data.Rooms==1) | (data.Rooms>2) & (data.Type=='u')].loc[:,'Rooms':'Price'])\n",
    "#print(data[(data.Rooms!=3)&(data.Price>2000000)&(data.Type!='h')].loc[:,'Rooms':'Price'])\n"
   ]
  }
 ],
 "metadata": {
  "kernelspec": {
   "display_name": "Python 2",
   "language": "python",
   "name": "python2"
  },
  "language_info": {
   "codemirror_mode": {
    "name": "ipython",
    "version": 2
   },
   "file_extension": ".py",
   "mimetype": "text/x-python",
   "name": "python",
   "nbconvert_exporter": "python",
   "pygments_lexer": "ipython2",
   "version": "2.7.16"
  }
 },
 "nbformat": 4,
 "nbformat_minor": 2
}
